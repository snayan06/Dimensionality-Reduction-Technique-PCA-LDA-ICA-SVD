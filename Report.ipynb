{
 "cells": [
  {
   "cell_type": "markdown",
   "metadata": {},
   "source": [
    "# DIMENTIONALITY REDUCTION"
   ]
  },
  {
   "cell_type": "markdown",
   "metadata": {},
   "source": [
    "- Many machine learning problems have thousands or even millions of features for each training instance. Not only does this make training extremely slow, it can also make it much harder to find a good solution.\n",
    "- Reducing dimensionality does lose some information (just like compressing an image to JPEG can degrade its quality), so even though it will speed up training, it may also make your system perform slightly worse.\n",
    "- For example, in face recognition, the size of a training image patch is usually larger than 60 x 60 , which corresponds to a vector with more than 3600 dimensions.\n",
    "- In some cases , reducing the dimensionality of the training data may filter out some noise and unnecessary details and thus result in higher performance (but in general it won’t; it will just speed up training).\n"
   ]
  },
  {
   "cell_type": "markdown",
   "metadata": {},
   "source": [
    "## Practical reasons\n",
    "- Redundancy reduction and intrinsic structure discovery\n",
    "- Intrinsic structure discovery\n",
    "- Removal of irrelevant and noisy features\n",
    "- Feature extraction\n",
    "- Visualization purpose\n",
    "- Computation and Machine learning perspective\n"
   ]
  },
  {
   "cell_type": "markdown",
   "metadata": {},
   "source": [
    "## PCA (Principle component analysis)\n",
    "- Pca is by far the most popular dimensionality algorithm which is in use.<br>\n",
    "- The main idea of principal component analysis (PCA) is to reduce the dimensionality of a data set consisting of many variables correlated with each other, either heavily or lightly, while retaining the variation present in the dataset, up to the maximum extent. The same is done by transforming the variables to a new set of variables, which are known as the principal components (or simply, the PCs).\n",
    "- PCA is basically the Linear Algebra.\n",
    "- By simple example will help to understand what is it and how is it works.\n",
    "- If we take 100*2 matrix\n",
    "- Then we have two choice 1.is to standardized this data and 2.without standardized.\n",
    "<p>So 1st we are going to understand with standardization,</p>\n",
    "Now for implementing PCA,\n",
    "- Step1:\n",
    "```python\n",
    "# generating a random data of 100*2\n",
    "height = np.round(np.random.normal(1.75, 0.20, 10), 2)\n",
    "weight = np.round(np.random.normal(60.32, 15, 10), 2)\n",
    "Data = np.column_stack((height, weight))\n",
    "print(\"printing the Data:\")\n",
    "```\n",
    "- Step2:\n",
    "Now find mean of this Data column wise\n",
    "```python\n",
    "Mean =np.mean(Data,axis=0)\n",
    "print(\"Mean of this Data:\" + str(Mean))\n",
    "```\n",
    "- Step3:\n",
    "Now find standard variation of Data\n",
    "```python\n",
    "Std = np.std(Data, axis=0)\n",
    "print(\"Standard Deviation of this Data:\" + str(Std))\n",
    "```\n",
    "- Step4:\n",
    "Now Standardized this data and find Co-variance matrix\n",
    "```python\n",
    "stdData = (Data - Mean) / Std\n",
    "print(\"Our Stdandized matrix is :\" + str(stdData))\n",
    "print(stdData.shape)\n",
    "```\n",
    "find Co-variance matrix\n",
    "```python\n",
    "covData = np.cov(stdData.T)\n",
    "print(\"Our Co-variance matrix is:\" + str(covData))\n",
    "```\n",
    "- Step5:\n",
    "find eighen values and eighen vectors\n",
    "```python\n",
    "values, vectors = eig(covData)\n",
    "print(values)\n",
    "print(vectors)\n",
    "```\n",
    "- Step6:\n",
    "```python \n",
    "i=0\n",
    "pairs=[(np.abs(values[i]), vectors[:,i]) for i in range(len(values))]\n",
    "print(pairs)\n",
    "print(\"------------------------------------------------------------------------------------------------------------------\")\n",
    "pairs.sort(key=lambda x: x[0], reverse = True)\n",
    "print(pairs)\n",
    "``` \n",
    "above we have pair the eighen values with eighen vectors and sorted them by eighen values\n"
   ]
  },
  {
   "cell_type": "markdown",
   "metadata": {},
   "source": [
    "<p>Now in this When we have taken mnist-dataset and applied above line of code then we are getting -nan error during standardization and it's because in mnist dataset 60000*784 the some variables are colinear with each other .</p>\n",
    "\n",
    "# LDA (Linear Discriminant Analysis)\n",
    "\n",
    "\n",
    "\n",
    "\n",
    "\n",
    "\n",
    "\n",
    "\n",
    "\n",
    "\n",
    "\n",
    "\n",
    "\n",
    "\n",
    "## PCA vs LDA\n",
    "<p>\n",
    "    "
   ]
  },
  {
   "cell_type": "markdown",
   "metadata": {},
   "source": [
    "<p>Now as we have seen two methods let's compare both of them on various datasets like wine,digits and iris datasets and visualize the plot of the results.</p>\n",
    "<p>Hear we are going to use sklearn library's datasets and decomposition function for PCA and LDA.</p>"
   ]
  },
  {
   "cell_type": "markdown",
   "metadata": {},
   "source": [
    "- Importing dataset\n",
    "```python \n",
    "#for iris\n",
    "iris = datasets.load_iris()\n",
    "print (iris)\n",
    "#for wine Dataset\n",
    "X = wine.data\n",
    "y = wine.target\n",
    "target_names = wine.target_names\n",
    "#for digits dataset\n",
    "X = digits.data\n",
    "y = digits.target\n",
    "target_names = digits.target_names\n",
    "```\n",
    "- Calculating PCA and LDA\n",
    "```python\n",
    "#for PCA\n",
    "pca = PCA(n_components=2)\n",
    "X_r = pca.fit(X).transform(X)\n",
    "print(X_r)\n",
    "#for LDA\n",
    "lda = LinearDiscriminantAnalysis(n_components=2)\n",
    "X_r2 = lda.fit(X, y).transform(X)\n",
    "print(X_r2)\n",
    "```\n",
    "<p>hear n_components cannot be larger than min(n_features, n_classes - 1). Using min(n_features, n_classes - 1) = min(4, 3 - 1) = 2 components."
   ]
  },
  {
   "cell_type": "code",
   "execution_count": null,
   "metadata": {},
   "outputs": [],
   "source": []
  }
 ],
 "metadata": {
  "kernelspec": {
   "display_name": "Python 3",
   "language": "python",
   "name": "python3"
  },
  "language_info": {
   "codemirror_mode": {
    "name": "ipython",
    "version": 3
   },
   "file_extension": ".py",
   "mimetype": "text/x-python",
   "name": "python",
   "nbconvert_exporter": "python",
   "pygments_lexer": "ipython3",
   "version": "3.7.1"
  }
 },
 "nbformat": 4,
 "nbformat_minor": 2
}
