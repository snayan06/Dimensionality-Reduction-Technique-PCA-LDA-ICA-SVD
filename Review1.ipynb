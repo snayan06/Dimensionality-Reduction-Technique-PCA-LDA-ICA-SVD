{
  "nbformat": 4,
  "nbformat_minor": 0,
  "metadata": {
    "colab": {
      "name": "Review1.ipynb",
      "provenance": [],
      "collapsed_sections": []
    },
    "kernelspec": {
      "name": "python3",
      "display_name": "Python 3"
    }
  },
  "cells": [
    {
      "cell_type": "code",
      "metadata": {
        "id": "Y_GYoEOJSF6f",
        "colab_type": "code",
        "colab": {}
      },
      "source": [
        "# importing needed libraries\n",
        "import numpy as np\n",
        "from numpy.linalg import eig\n",
        "import pandas as pd\n"
      ],
      "execution_count": 0,
      "outputs": []
    },
    {
      "cell_type": "code",
      "metadata": {
        "id": "6spPneCHSRz-",
        "colab_type": "code",
        "outputId": "2e8f135e-9ae8-4f77-bc19-65c0e2b45361",
        "colab": {
          "base_uri": "https://localhost:8080/",
          "height": 221
        }
      },
      "source": [
        "# generating a random data of 100*2\n",
        "height = np.round(np.random.normal(1.75, 0.20, 10), 2)\n",
        "weight = np.round(np.random.normal(60.32, 15, 10), 2)\n",
        "Data = np.column_stack((height, weight))\n",
        "print(\"printing the Data:\")\n",
        "print(Data)\n",
        "print(Data.shape)\n",
        "\n"
      ],
      "execution_count": 2,
      "outputs": [
        {
          "output_type": "stream",
          "text": [
            "printing the Data:\n",
            "[[ 1.75 49.62]\n",
            " [ 1.49 83.72]\n",
            " [ 1.9  38.27]\n",
            " [ 1.85 70.93]\n",
            " [ 1.81 44.55]\n",
            " [ 1.73 83.43]\n",
            " [ 1.72 85.04]\n",
            " [ 1.95 51.25]\n",
            " [ 1.73 81.52]\n",
            " [ 1.46 75.75]]\n",
            "(10, 2)\n"
          ],
          "name": "stdout"
        }
      ]
    },
    {
      "cell_type": "code",
      "metadata": {
        "id": "5yuqPc8ySYpM",
        "colab_type": "code",
        "outputId": "0f5d319b-f33f-447a-8005-8cac2c6b7a17",
        "colab": {
          "base_uri": "https://localhost:8080/",
          "height": 34
        }
      },
      "source": [
        "# for standardization of data 2.std\n",
        "Std = np.std(Data, axis=0)\n",
        "print(\"Standard Deviation of this Data:\" + str(Std))"
      ],
      "execution_count": 3,
      "outputs": [
        {
          "output_type": "stream",
          "text": [
            "Standard Deviation of this Data:[ 0.15109269 17.47518343]\n"
          ],
          "name": "stdout"
        }
      ]
    },
    {
      "cell_type": "code",
      "metadata": {
        "id": "Ve2bx7i7SVLR",
        "colab_type": "code",
        "outputId": "9a57c64d-447a-42a8-8490-4769a372835c",
        "colab": {
          "base_uri": "https://localhost:8080/",
          "height": 34
        }
      },
      "source": [
        "# for standardization of data 1.MEAN\n",
        "Mean =np.mean(Data,axis=0)\n",
        "\n",
        "print(\"Mean of this Data:\" + str(Mean))"
      ],
      "execution_count": 4,
      "outputs": [
        {
          "output_type": "stream",
          "text": [
            "Mean of this Data:[ 1.739 66.408]\n"
          ],
          "name": "stdout"
        }
      ]
    },
    {
      "cell_type": "code",
      "metadata": {
        "id": "eo_6DhViSdJ9",
        "colab_type": "code",
        "outputId": "585e1495-a37f-4552-a4c2-3905142ba39d",
        "colab": {
          "base_uri": "https://localhost:8080/",
          "height": 238
        }
      },
      "source": [
        "stdData = (Data - Mean) / Std\n",
        "print(\"Our Stdandized matrix is :\" + str(stdData))\n",
        "print(stdData.shape)\n",
        "# for covariance matrix\n",
        "\n",
        "covData = np.cov(stdData.T)\n",
        "print(\"Our Co-variance matrix is:\" + str(covData))"
      ],
      "execution_count": 5,
      "outputs": [
        {
          "output_type": "stream",
          "text": [
            "Our Stdandized matrix is :[[ 0.07280299 -0.96067661]\n",
            " [-1.64799505  0.99066199]\n",
            " [ 1.0655711  -1.61016908]\n",
            " [ 0.7346484   0.25876695]\n",
            " [ 0.46991024 -1.25080232]\n",
            " [-0.05956609  0.97406703]\n",
            " [-0.12575063  1.06619768]\n",
            " [ 1.3964938  -0.86740148]\n",
            " [-0.05956609  0.86476918]\n",
            " [-1.84654867  0.53458666]]\n",
            "(10, 2)\n",
            "Our Co-variance matrix is:[[ 1.11111111 -0.69533625]\n",
            " [-0.69533625  1.11111111]]\n"
          ],
          "name": "stdout"
        }
      ]
    },
    {
      "cell_type": "code",
      "metadata": {
        "id": "UagOAYuCSqqz",
        "colab_type": "code",
        "outputId": "4daa3daa-a218-4204-e3b2-216de7381e04",
        "colab": {
          "base_uri": "https://localhost:8080/",
          "height": 68
        }
      },
      "source": [
        "#for finding eighenvalues and eighen vectors\n",
        "values, vectors = eig(covData)\n",
        "print(values)\n",
        "print(vectors)"
      ],
      "execution_count": 6,
      "outputs": [
        {
          "output_type": "stream",
          "text": [
            "[1.80644737 0.41577486]\n",
            "[[ 0.70710678  0.70710678]\n",
            " [-0.70710678  0.70710678]]\n"
          ],
          "name": "stdout"
        }
      ]
    },
    {
      "cell_type": "code",
      "metadata": {
        "id": "TIWx_wH9Sv6U",
        "colab_type": "code",
        "outputId": "1637f4c3-62a4-4ad4-c694-7ba101fa6930",
        "colab": {
          "base_uri": "https://localhost:8080/",
          "height": 68
        }
      },
      "source": [
        "i=0\n",
        "pairs=[(np.abs(values[i]), vectors[:,i]) for i in range(len(values))]\n",
        "print(pairs)\n",
        "print(\"------------------------------------------------------------------------------------------------------------------\")\n",
        "pairs.sort(key=lambda x: x[0], reverse = True)\n",
        "print(pairs)\n"
      ],
      "execution_count": 7,
      "outputs": [
        {
          "output_type": "stream",
          "text": [
            "[(1.8064473655448896, array([ 0.70710678, -0.70710678])), (0.4157748566773325, array([0.70710678, 0.70710678]))]\n",
            "------------------------------------------------------------------------------------------------------------------\n",
            "[(1.8064473655448896, array([ 0.70710678, -0.70710678])), (0.4157748566773325, array([0.70710678, 0.70710678]))]\n"
          ],
          "name": "stdout"
        }
      ]
    },
    {
      "cell_type": "code",
      "metadata": {
        "id": "L4_P0niqSxd3",
        "colab_type": "code",
        "colab": {}
      },
      "source": [
        ""
      ],
      "execution_count": 0,
      "outputs": []
    },
    {
      "cell_type": "code",
      "metadata": {
        "id": "Aka1KhCFUgLL",
        "colab_type": "code",
        "colab": {}
      },
      "source": [
        ""
      ],
      "execution_count": 0,
      "outputs": []
    },
    {
      "cell_type": "code",
      "metadata": {
        "id": "ikMNEsZoUgli",
        "colab_type": "code",
        "colab": {}
      },
      "source": [
        ""
      ],
      "execution_count": 0,
      "outputs": []
    },
    {
      "cell_type": "code",
      "metadata": {
        "id": "glo2pOB7UtBI",
        "colab_type": "code",
        "colab": {}
      },
      "source": [
        ""
      ],
      "execution_count": 0,
      "outputs": []
    },
    {
      "cell_type": "code",
      "metadata": {
        "id": "XlOyX1DaVFHY",
        "colab_type": "code",
        "colab": {}
      },
      "source": [
        ""
      ],
      "execution_count": 0,
      "outputs": []
    },
    {
      "cell_type": "markdown",
      "metadata": {
        "id": "mUaeNq-5wt-K",
        "colab_type": "text"
      },
      "source": [
        ""
      ]
    }
  ]
}